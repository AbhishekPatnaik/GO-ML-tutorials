{
 "cells": [
  {
   "cell_type": "markdown",
   "metadata": {},
   "source": [
    "## Python Basics\n",
    "<br></br>\n"
   ]
  },
  {
   "cell_type": "markdown",
   "metadata": {},
   "source": [
    "<img src=\"https://techgrabyte.com/wp-content/uploads/2018/12/Five-Most-Powerful-Open-Source-Python-Libraries-For-Machine-Learning.jpg\">"
   ]
  },
  {
   "cell_type": "markdown",
   "metadata": {},
   "source": [
    "Lets get started with machine and its baics. But before that lets look into some of the most important topics in python that will be helpfull to us in coding while we jump into Python.\n",
    "\n",
    "<br></br>\n",
    "\n",
    "But before that we expect you to know the basics concept of python e.g data structure,strings etc"
   ]
  },
  {
   "cell_type": "markdown",
   "metadata": {},
   "source": [
    "### Functions()\n",
    "\n",
    "\n",
    "Okay so what are functions?????\n",
    "\n",
    "<br></br>\n",
    "<br></br>\n",
    "\n",
    "for me its a collection of codes that can be used again and again. But why again and again?why do we use its again?? These are some of the common problems that new comers in python face.Lets look into an example that can make our doubts clear:-"
   ]
  },
  {
   "cell_type": "code",
   "execution_count": 11,
   "metadata": {},
   "outputs": [
    {
     "name": "stdout",
     "output_type": "stream",
     "text": [
      "6\n"
     ]
    }
   ],
   "source": [
    "## Suppose a common program of adding two numbers but with out functions:-\n",
    "a = 2\n",
    "b = 4\n",
    "sum = a+b\n",
    "print(sum)"
   ]
  },
  {
   "cell_type": "markdown",
   "metadata": {},
   "source": [
    "There we get our expected result.But what if i need to perform the addition again and again with 2 numbers. So should i end up writing 100 of lines of code just to persform a simple addition code? The answer to this is NO !!! This is not an  efficient way to write an code. So for this in order to make our code more readable, compact, crisp we use function."
   ]
  },
  {
   "cell_type": "code",
   "execution_count": 10,
   "metadata": {},
   "outputs": [
    {
     "name": "stdout",
     "output_type": "stream",
     "text": [
      "5\n",
      "11\n"
     ]
    }
   ],
   "source": [
    "# Lets see an example of adding two number with functions:\n",
    "def sum(number1,number2):\n",
    "    return number1+number2\n",
    "\n",
    "print(sum(2,3))\n",
    "print(sum(5,6))    "
   ]
  },
  {
   "cell_type": "markdown",
   "metadata": {},
   "source": [
    "As we see using function did our work so easy. Now lets roll towards loops:-"
   ]
  },
  {
   "cell_type": "markdown",
   "metadata": {},
   "source": [
    "### For loops\n",
    "\n",
    "Now, lets discuss about for loops"
   ]
  },
  {
   "cell_type": "code",
   "execution_count": 16,
   "metadata": {},
   "outputs": [
    {
     "name": "stdout",
     "output_type": "stream",
     "text": [
      "0\n",
      "1\n",
      "2\n",
      "3\n",
      "4\n",
      "5\n",
      "6\n",
      "7\n",
      "8\n",
      "9\n",
      "With Pre-defined range:-\n",
      "1\n",
      "2\n",
      "3\n",
      "4\n",
      "5\n",
      "6\n",
      "7\n",
      "8\n",
      "9\n",
      "Printing elements in list\n",
      "Why\n",
      "so\n",
      "serious !!\n"
     ]
    }
   ],
   "source": [
    "## syntax(simple english) to print 0-9\n",
    "for i in range(10):\n",
    "    print(i)\n",
    "\n",
    "print(\"With Pre-defined range:-\")   \n",
    "# Passing a pre-defined range \n",
    "for i in range(1,10):\n",
    "    print(i)\n",
    "    \n",
    "print(\"Printing elements in list\")    \n",
    "# printing elements in list:-\n",
    "list_= [\"Why\",\"so\",\"serious !!\"]\n",
    "for i in list_:\n",
    "    print(i)"
   ]
  },
  {
   "cell_type": "code",
   "execution_count": null,
   "metadata": {},
   "outputs": [],
   "source": [
    "\"\"\"\n",
    "Lets look into some of the important functions like \n",
    " 1) type(): This function helps in determining the data type of the variable\n",
    " 2) len(): helps in finding out the lenght of the string, list, dict etc\n",
    " 3) replace(): this replace\n",
    " 4) \n",
    "\"\"\" "
   ]
  },
  {
   "cell_type": "code",
   "execution_count": 22,
   "metadata": {},
   "outputs": [
    {
     "name": "stdout",
     "output_type": "stream",
     "text": [
      "How are you\n",
      "Type of the variable:- <class 'str'>\n",
      "Lenght of variable:-  11\n",
      "'How' replaced with 'what' \n",
      "  what are you\n"
     ]
    }
   ],
   "source": [
    "str_ = \"How are you\"\n",
    "print(str_)\n",
    "print(\"Type of the variable:-\",type(str_))\n",
    "print(\"Length of variable:- \",len(str_))\n",
    "str_ = str_.replace(\"How\",\"what\")\n",
    "print(\"'How' replaced with 'what' \\n \",str_)"
   ]
  },
  {
   "cell_type": "code",
   "execution_count": null,
   "metadata": {},
   "outputs": [],
   "source": []
  },
  {
   "cell_type": "code",
   "execution_count": null,
   "metadata": {},
   "outputs": [],
   "source": []
  }
 ],
 "metadata": {
  "kernelspec": {
   "display_name": "Python 3",
   "language": "python",
   "name": "python3"
  },
  "language_info": {
   "codemirror_mode": {
    "name": "ipython",
    "version": 3
   },
   "file_extension": ".py",
   "mimetype": "text/x-python",
   "name": "python",
   "nbconvert_exporter": "python",
   "pygments_lexer": "ipython3",
   "version": "3.6.4"
  }
 },
 "nbformat": 4,
 "nbformat_minor": 2
}
