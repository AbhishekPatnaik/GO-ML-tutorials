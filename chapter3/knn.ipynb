{
 "cells": [
  {
   "cell_type": "code",
   "execution_count": 1,
   "metadata": {},
   "outputs": [],
   "source": [
    "from sklearn import datasets\n",
    "import numpy as np\n",
    "import math\n",
    "import operator\n",
    "import pandas as pd\n",
    "import os\n",
    "from sklearn.model_selection import train_test_split\n"
   ]
  },
  {
   "cell_type": "code",
   "execution_count": 6,
   "metadata": {},
   "outputs": [],
   "source": [
    "# load iris in data folder\n",
    "def load_data():\n",
    "    iris = pd.read_csv(\"./data/iris.csv\")\n",
    "\n",
    "    return iris\n",
    "\n",
    "\n",
    "# Defining a function which calculates euclidean distance between two data points\n",
    "def euclideanDistance(data1, data2, length):\n",
    "    distance = 0\n",
    "    for x in range(length):\n",
    "        distance += np.square(data1[x] - data2[x])\n",
    "    return np.sqrt(distance)\n",
    "\n",
    "def sort_data(distances):\n",
    "    sort_data = sorted(distances.items(), key=operator.itemgetter(1))\n",
    "    return sort_data\n",
    "\n",
    "# Calculating the most freq class in the neighbors\n",
    "def calculate_frequecies(neighbors,trainingSet):\n",
    "    classVotes = {}\n",
    "    for x in range(len(neighbors)):\n",
    "        response = trainingSet.iloc[neighbors[x]][-1]\n",
    " \n",
    "        if response in classVotes:\n",
    "            classVotes[response] += 1\n",
    "        else:\n",
    "            classVotes[response] = 1\n",
    "    return classVotes\n",
    "\n",
    "\n",
    "\n",
    "def knn(training_data,test_data,k_param):\n",
    "    dist = {}\n",
    "    sort = {}\n",
    "\n",
    "    length = test_data.shape[1]\n",
    "    # Now as we have stated in our blog we will be finding euclidean distance between each row of trainin\n",
    "    # and test dataset\n",
    "    neighbors = []\n",
    "    for i in range(len(training_data)):\n",
    "        # Lets start calculating\n",
    "        distance = euclideanDistance(test_data,training_data.iloc[i],length)\n",
    "\n",
    "        # storing distances\n",
    "        dist[i] = distance[0]\n",
    "\n",
    "        # now we need to get the nearest neighbours\n",
    "    sorted_ = sorted(dist.items(),key=operator.itemgetter(1)) \n",
    "    # extracting top k neighbors\n",
    "    \n",
    "    for x in range(k_param):\n",
    "            neighbors.append(sorted_[x][0])\n",
    "\n",
    "    classVotes = calculate_frequecies(neighbors,training_data)\n",
    "    sortedVotes = sorted(classVotes.items(), key=operator.itemgetter(1), reverse=True)\n",
    "    return sortedVotes[0][0],neighbors\n"
   ]
  },
  {
   "cell_type": "code",
   "execution_count": 7,
   "metadata": {},
   "outputs": [],
   "source": [
    "data = load_data()\n",
    "#train_data,test_data,tain_labels,test_labels = train_test_split(data,labels,test_size=0.11,random_state=21\n",
    "                                                               "
   ]
  },
  {
   "cell_type": "code",
   "execution_count": 8,
   "metadata": {},
   "outputs": [],
   "source": [
    "test_data = pd.DataFrame([[7.2,3.5,6.7,2.5]])\n",
    "result,neigh = knn(data,test_data,3)"
   ]
  },
  {
   "cell_type": "code",
   "execution_count": 9,
   "metadata": {},
   "outputs": [
    {
     "data": {
      "text/plain": [
       "'Iris-virginica'"
      ]
     },
     "execution_count": 9,
     "metadata": {},
     "output_type": "execute_result"
    }
   ],
   "source": [
    "result"
   ]
  },
  {
   "cell_type": "code",
   "execution_count": null,
   "metadata": {},
   "outputs": [],
   "source": []
  }
 ],
 "metadata": {
  "kernelspec": {
   "display_name": "Python 3",
   "language": "python",
   "name": "python3"
  },
  "language_info": {
   "codemirror_mode": {
    "name": "ipython",
    "version": 3
   },
   "file_extension": ".py",
   "mimetype": "text/x-python",
   "name": "python",
   "nbconvert_exporter": "python",
   "pygments_lexer": "ipython3",
   "version": "3.6.4"
  }
 },
 "nbformat": 4,
 "nbformat_minor": 2
}
