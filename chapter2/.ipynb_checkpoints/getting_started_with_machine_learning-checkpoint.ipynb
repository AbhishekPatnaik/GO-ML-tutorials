{
 "cells": [
  {
   "cell_type": "markdown",
   "metadata": {},
   "source": [
    "## So lets get started with machine learning "
   ]
  },
  {
   "cell_type": "markdown",
   "metadata": {},
   "source": [
    "### What is machine learning?\n",
    "        Machine learning is the scientific study of algorithms and statistical models that computer systems use to     progressively improve their performance on a specific task."
   ]
  },
  {
   "cell_type": "markdown",
   "metadata": {},
   "source": [
    "##  Types of learning in ML:\n",
    "        1. Supervised learning\n",
    "        2. Unsupervised Learning\n",
    "        3. Semi-supervised Learning\n",
    "        4. Reinforcement Learning"
   ]
  },
  {
   "cell_type": "markdown",
   "metadata": {},
   "source": [
    "## Supervised Learning:- \n",
    "\n",
    "     Supervised learning as the name indicates a presence of supervisor as teacher. \n",
    "     Basically supervised learning is a learning in which we teach or train the machine using      data which is well    \n",
    "     labeled that means some data is already tagged with correct answer. After that, machine        is provided with new set \n",
    "     of examples(data) so that supervised learning algorithm analyses the training data(set of      training examples) and \n",
    "     produces an correct outcome from labeled data.\n",
    "\n"
   ]
  },
  {
   "cell_type": "markdown",
   "metadata": {},
   "source": [
    "What do we mean by labled data?\n",
    "\n",
    "    Labeled data is a group of samples that have been tagged with one or more labels. \n",
    "    Labeling typically takes a set of unlabeled data and augments each piece of that unlabeled     data with meaningful tags that are informative."
   ]
  },
  {
   "cell_type": "markdown",
   "metadata": {},
   "source": [
    "## Unsupervised Learning\n",
    "    Unsupervised Learning is a class of Machine Learning techniques to find the patterns in data. The data given to unsupervised algorithm are not labelled,\n",
    "    which means only the input variables(X) are given with no corresponding output variables.eg.:-clustering, LDA"
   ]
  },
  {
   "cell_type": "markdown",
   "metadata": {},
   "source": [
    "## Semi Supervised learning\n",
    "\n",
    "        As you may have guessed, semi-supervised learning algorithms are trained on a combination of labeled and unlabeled data. This is useful for a few reasons. First, the process of labeling massive amounts of data for supervised learning is often prohibitively time-consuming and expensive. \n",
    "        What’s more, too much labeling can impose human biases on the model. That means including lots of unlabeled data during the training process actually tends to improve the accuracy of the final model while reducing the time and cost spent building it."
   ]
  },
  {
   "cell_type": "markdown",
   "metadata": {},
   "source": [
    "## Reinforcement Learning \n",
    "\n",
    "        A reinforcement learning algorithm, or agent, learns by interacting with its environment. The agent receives rewards by performing correctly and penalties for performing incorrectly. \n",
    "        The agent learns without intervention from a human by maximizing its reward and minimizing its penalty."
   ]
  },
  {
   "cell_type": "code",
   "execution_count": null,
   "metadata": {},
   "outputs": [],
   "source": []
  },
  {
   "cell_type": "markdown",
   "metadata": {},
   "source": [
    "## Discussion:-\n",
    "        We will be going to discuss more and more about each part in details in further chapters."
   ]
  }
 ],
 "metadata": {
  "kernelspec": {
   "display_name": "Python 3",
   "language": "python",
   "name": "python3"
  },
  "language_info": {
   "codemirror_mode": {
    "name": "ipython",
    "version": 3
   },
   "file_extension": ".py",
   "mimetype": "text/x-python",
   "name": "python",
   "nbconvert_exporter": "python",
   "pygments_lexer": "ipython3",
   "version": "3.6.4"
  }
 },
 "nbformat": 4,
 "nbformat_minor": 2
}
